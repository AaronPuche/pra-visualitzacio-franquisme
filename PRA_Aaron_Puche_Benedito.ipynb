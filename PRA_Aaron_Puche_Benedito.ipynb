{
 "cells": [
  {
   "cell_type": "markdown",
   "id": "8a25c5e3",
   "metadata": {},
   "source": [
    "# Pràctica 2 - Creació de la visualització i lliurament del projecte\n",
    "\n",
    "## Aarón Puche Benedito"
   ]
  },
  {
   "cell_type": "code",
   "execution_count": 1,
   "id": "eedc7846",
   "metadata": {},
   "outputs": [],
   "source": [
    "import pandas as pd"
   ]
  },
  {
   "cell_type": "markdown",
   "id": "95cfbef8",
   "metadata": {},
   "source": [
    "Carreguem i veiem les dades originals:"
   ]
  },
  {
   "cell_type": "code",
   "execution_count": 2,
   "id": "a1cef3c4",
   "metadata": {},
   "outputs": [
    {
     "data": {
      "text/html": [
       "<div>\n",
       "<style scoped>\n",
       "    .dataframe tbody tr th:only-of-type {\n",
       "        vertical-align: middle;\n",
       "    }\n",
       "\n",
       "    .dataframe tbody tr th {\n",
       "        vertical-align: top;\n",
       "    }\n",
       "\n",
       "    .dataframe thead th {\n",
       "        text-align: right;\n",
       "    }\n",
       "</style>\n",
       "<table border=\"1\" class=\"dataframe\">\n",
       "  <thead>\n",
       "    <tr style=\"text-align: right;\">\n",
       "      <th></th>\n",
       "      <th>Codi</th>\n",
       "      <th>Cognoms nom</th>\n",
       "      <th>Cognoms</th>\n",
       "      <th>Nom</th>\n",
       "      <th>Sexe</th>\n",
       "      <th>Edat</th>\n",
       "      <th>Municipi naixement</th>\n",
       "      <th>Pedanies/Agregats naixement</th>\n",
       "      <th>Comarca naixement</th>\n",
       "      <th>Província naixement</th>\n",
       "      <th>...</th>\n",
       "      <th>Commutació/indult (demanat)</th>\n",
       "      <th>Afusellades</th>\n",
       "      <th>Ref num arxiu</th>\n",
       "      <th>Autoria de la descripció</th>\n",
       "      <th>Data de la descripció</th>\n",
       "      <th>Data correccio registre</th>\n",
       "      <th>Municipi_Naixement_Longitud_ETRS89</th>\n",
       "      <th>Municipi_Naixement_Latitud_ETRS89</th>\n",
       "      <th>Municipi_Residencia_Longitud_ETRS89</th>\n",
       "      <th>Municipi_Residencia_Latitud_ETRS89</th>\n",
       "    </tr>\n",
       "  </thead>\n",
       "  <tbody>\n",
       "    <tr>\n",
       "      <th>0</th>\n",
       "      <td>135218</td>\n",
       "      <td>ABAD ALFONSO, Erundina</td>\n",
       "      <td>ABAD ALFONSO</td>\n",
       "      <td>Erundina</td>\n",
       "      <td>Dona</td>\n",
       "      <td>43.0</td>\n",
       "      <td>Alcoi</td>\n",
       "      <td>--</td>\n",
       "      <td>Alcoià</td>\n",
       "      <td>Alacant</td>\n",
       "      <td>...</td>\n",
       "      <td>NaN</td>\n",
       "      <td>NaN</td>\n",
       "      <td>37729.0</td>\n",
       "      <td>ANC</td>\n",
       "      <td>2017-07-12</td>\n",
       "      <td>NaN</td>\n",
       "      <td>-0.473184</td>\n",
       "      <td>38.698369</td>\n",
       "      <td>2.176349</td>\n",
       "      <td>41.384247</td>\n",
       "    </tr>\n",
       "    <tr>\n",
       "      <th>1</th>\n",
       "      <td>25335</td>\n",
       "      <td>ABAD ARBÓS, Ricardo</td>\n",
       "      <td>ABAD ARBÓS</td>\n",
       "      <td>Ricardo</td>\n",
       "      <td>Home</td>\n",
       "      <td>30.0</td>\n",
       "      <td>Barcelona</td>\n",
       "      <td>--</td>\n",
       "      <td>Barcelonès</td>\n",
       "      <td>Barcelona</td>\n",
       "      <td>...</td>\n",
       "      <td>NaN</td>\n",
       "      <td>NaN</td>\n",
       "      <td>12842.0</td>\n",
       "      <td>ANC</td>\n",
       "      <td>2017-07-12</td>\n",
       "      <td>NaN</td>\n",
       "      <td>2.176349</td>\n",
       "      <td>41.384247</td>\n",
       "      <td>2.176349</td>\n",
       "      <td>41.384247</td>\n",
       "    </tr>\n",
       "    <tr>\n",
       "      <th>2</th>\n",
       "      <td>123192</td>\n",
       "      <td>ABAD BARAS, José</td>\n",
       "      <td>ABAD BARAS</td>\n",
       "      <td>José</td>\n",
       "      <td>Home</td>\n",
       "      <td>30.0</td>\n",
       "      <td>Benavarri</td>\n",
       "      <td>--</td>\n",
       "      <td>Ribagorça</td>\n",
       "      <td>Osca</td>\n",
       "      <td>...</td>\n",
       "      <td>NaN</td>\n",
       "      <td>NaN</td>\n",
       "      <td>49476.0</td>\n",
       "      <td>ANC</td>\n",
       "      <td>2017-07-12</td>\n",
       "      <td>NaN</td>\n",
       "      <td>0.481881</td>\n",
       "      <td>42.106994</td>\n",
       "      <td>0.620619</td>\n",
       "      <td>41.615274</td>\n",
       "    </tr>\n",
       "    <tr>\n",
       "      <th>3</th>\n",
       "      <td>171</td>\n",
       "      <td>ABAD BATLLONE, Juan</td>\n",
       "      <td>ABAD BATLLONE</td>\n",
       "      <td>Juan</td>\n",
       "      <td>Home</td>\n",
       "      <td>42.0</td>\n",
       "      <td>Barcelona</td>\n",
       "      <td>--</td>\n",
       "      <td>Barcelonès</td>\n",
       "      <td>Barcelona</td>\n",
       "      <td>...</td>\n",
       "      <td>NaN</td>\n",
       "      <td>NaN</td>\n",
       "      <td>4063.0</td>\n",
       "      <td>ANC</td>\n",
       "      <td>2017-07-12</td>\n",
       "      <td>NaN</td>\n",
       "      <td>2.176349</td>\n",
       "      <td>41.384247</td>\n",
       "      <td>2.176349</td>\n",
       "      <td>41.384247</td>\n",
       "    </tr>\n",
       "    <tr>\n",
       "      <th>4</th>\n",
       "      <td>24485</td>\n",
       "      <td>ABAD BOIRA, Ricardo</td>\n",
       "      <td>ABAD BOIRA</td>\n",
       "      <td>Ricardo</td>\n",
       "      <td>Home</td>\n",
       "      <td>48.0</td>\n",
       "      <td>Tauste</td>\n",
       "      <td>--</td>\n",
       "      <td>--</td>\n",
       "      <td>Saragossa</td>\n",
       "      <td>...</td>\n",
       "      <td>NaN</td>\n",
       "      <td>NaN</td>\n",
       "      <td>12915.0</td>\n",
       "      <td>ANC</td>\n",
       "      <td>2017-07-12</td>\n",
       "      <td>NaN</td>\n",
       "      <td>-1.256941</td>\n",
       "      <td>41.921394</td>\n",
       "      <td>2.176349</td>\n",
       "      <td>41.384247</td>\n",
       "    </tr>\n",
       "  </tbody>\n",
       "</table>\n",
       "<p>5 rows × 34 columns</p>\n",
       "</div>"
      ],
      "text/plain": [
       "     Codi             Cognoms nom        Cognoms       Nom  Sexe  Edat  \\\n",
       "0  135218  ABAD ALFONSO, Erundina   ABAD ALFONSO  Erundina  Dona  43.0   \n",
       "1   25335     ABAD ARBÓS, Ricardo     ABAD ARBÓS   Ricardo  Home  30.0   \n",
       "2  123192        ABAD BARAS, José     ABAD BARAS      José  Home  30.0   \n",
       "3     171     ABAD BATLLONE, Juan  ABAD BATLLONE      Juan  Home  42.0   \n",
       "4   24485     ABAD BOIRA, Ricardo     ABAD BOIRA   Ricardo  Home  48.0   \n",
       "\n",
       "  Municipi naixement Pedanies/Agregats naixement Comarca naixement  \\\n",
       "0              Alcoi                          --            Alcoià   \n",
       "1          Barcelona                          --        Barcelonès   \n",
       "2          Benavarri                          --         Ribagorça   \n",
       "3          Barcelona                          --        Barcelonès   \n",
       "4             Tauste                          --                --   \n",
       "\n",
       "  Província naixement  ... Commutació/indult (demanat) Afusellades  \\\n",
       "0             Alacant  ...                         NaN         NaN   \n",
       "1           Barcelona  ...                         NaN         NaN   \n",
       "2                Osca  ...                         NaN         NaN   \n",
       "3           Barcelona  ...                         NaN         NaN   \n",
       "4           Saragossa  ...                         NaN         NaN   \n",
       "\n",
       "  Ref num arxiu Autoria de la descripció Data de la descripció  \\\n",
       "0       37729.0                      ANC            2017-07-12   \n",
       "1       12842.0                      ANC            2017-07-12   \n",
       "2       49476.0                      ANC            2017-07-12   \n",
       "3        4063.0                      ANC            2017-07-12   \n",
       "4       12915.0                      ANC            2017-07-12   \n",
       "\n",
       "  Data correccio registre Municipi_Naixement_Longitud_ETRS89  \\\n",
       "0                     NaN                          -0.473184   \n",
       "1                     NaN                           2.176349   \n",
       "2                     NaN                           0.481881   \n",
       "3                     NaN                           2.176349   \n",
       "4                     NaN                          -1.256941   \n",
       "\n",
       "  Municipi_Naixement_Latitud_ETRS89 Municipi_Residencia_Longitud_ETRS89  \\\n",
       "0                         38.698369                            2.176349   \n",
       "1                         41.384247                            2.176349   \n",
       "2                         42.106994                            0.620619   \n",
       "3                         41.384247                            2.176349   \n",
       "4                         41.921394                            2.176349   \n",
       "\n",
       "  Municipi_Residencia_Latitud_ETRS89  \n",
       "0                          41.384247  \n",
       "1                          41.384247  \n",
       "2                          41.615274  \n",
       "3                          41.384247  \n",
       "4                          41.384247  \n",
       "\n",
       "[5 rows x 34 columns]"
      ]
     },
     "execution_count": 2,
     "metadata": {},
     "output_type": "execute_result"
    }
   ],
   "source": [
    "df = pd.read_csv('data/franquisme_1938_1978.csv')\n",
    "df.head()"
   ]
  },
  {
   "cell_type": "code",
   "execution_count": 3,
   "id": "0296ee0e",
   "metadata": {},
   "outputs": [
    {
     "data": {
      "text/plain": [
       "(69832, 34)"
      ]
     },
     "execution_count": 3,
     "metadata": {},
     "output_type": "execute_result"
    }
   ],
   "source": [
    "df.shape"
   ]
  },
  {
   "cell_type": "code",
   "execution_count": 4,
   "id": "20e99488",
   "metadata": {},
   "outputs": [
    {
     "data": {
      "text/plain": [
       "Index(['Codi', 'Cognoms nom', 'Cognoms', 'Nom', 'Sexe', 'Edat',\n",
       "       'Municipi naixement', 'Pedanies/Agregats naixement',\n",
       "       'Comarca naixement', 'Província naixement',\n",
       "       'Comunitat autònoma naixement', 'País naixement', 'Municipi residència',\n",
       "       'Pedanies/Agregats residencia', 'Comarca residència',\n",
       "       'Província residència', 'Comunitat autònoma residència',\n",
       "       'País residència', 'Tipus procediment 1', 'Tipus procediment 2',\n",
       "       'Num causa', 'Any inicial', 'Any aprovació sen o altra resol', 'Pena',\n",
       "       'Commutació/indult (demanat)', 'Afusellades', 'Ref num arxiu',\n",
       "       'Autoria de la descripció', 'Data de la descripció',\n",
       "       'Data correccio registre', 'Municipi_Naixement_Longitud_ETRS89',\n",
       "       'Municipi_Naixement_Latitud_ETRS89',\n",
       "       'Municipi_Residencia_Longitud_ETRS89',\n",
       "       'Municipi_Residencia_Latitud_ETRS89'],\n",
       "      dtype='object')"
      ]
     },
     "execution_count": 4,
     "metadata": {},
     "output_type": "execute_result"
    }
   ],
   "source": [
    "df.columns"
   ]
  },
  {
   "cell_type": "markdown",
   "id": "70106b1f",
   "metadata": {},
   "source": [
    "### Pregunta 1: En quines comarques hi ha hagut més repressió?\n",
    "\n",
    "Per a respondre a aquestes dades hem decidit realitzar una visualització amb un mapa i punts sobre ell.\n",
    "\n",
    "Per a respondre a aquestes dades hem decidit realitzar una visualització amb un mapa. En concret ho farem amb un mapa de Catalunya dividit per les comarques. D'aquesta manera veurem de forma molt intuïtiva quin ha sigut el nivell de repressió per comarca.\n",
    "\n",
    "El que farem és veure el nombre total de persones que han sigut sentenciades amb alguna pena al llarg dels anys per comarca. Per a fer això necessitem saber a quina comarca pertany cada cas i l'any de la seua sentència.\n",
    "\n",
    "L'any de la sentència ho tenim clar, ja que és el camp *Any aprovació sen o altra resol*. Però per decidir la comarca ala que pertany la persona tenim dues opcions, agafar les dades de naixement o les dades de residència. Hem cregut que serà millor agafar les dades de residència, ja que creguem que és on la persona estaria vivint quan va ser jutjada.\n",
    "\n",
    "Veiem quins llocs de residència tenim:"
   ]
  },
  {
   "cell_type": "code",
   "execution_count": 5,
   "id": "33348888",
   "metadata": {},
   "outputs": [
    {
     "data": {
      "text/plain": [
       "array(['Comunitat Valenciana', 'Catalunya', 'Aragó', 'Castella-Lleó',\n",
       "       '--', 'Cantàbria', 'Regió de Múrcia', 'Andalusia', 'Illes Balears',\n",
       "       'Comunitat de Madrid', 'País Basc', 'Galícia', 'Melilla',\n",
       "       'Castella-la Manxa', 'Extremadura', \"Principat d'Astúries\",\n",
       "       'Comunitat Foral de Navarra', 'Rioja', 'Illes Canàries',\n",
       "       'Castella i Lleó', 'Ceuta', 'Madrid'], dtype=object)"
      ]
     },
     "execution_count": 5,
     "metadata": {},
     "output_type": "execute_result"
    }
   ],
   "source": [
    "df[\"Comunitat autònoma naixement\"].unique()"
   ]
  },
  {
   "cell_type": "markdown",
   "id": "6d781b51",
   "metadata": {},
   "source": [
    "Les dades corresponen a les persones a les quals es va instruir un procediment judicial militar durant la dictadura de Franco pels tribunals de l'Auditoria de Guerra de l'Exèrcit d'Ocupació que van actuar a Catalunya de l'abril de 1938 a desembre de 1978.\n",
    "\n",
    "Com veiem, trobem persones que residien en altres comunitats a part de Catalunya. La idea inicial per respondre a la pregunta plantejada era visualitzar un mapa de Catalunya per comarques, si tenim dades d'altres comunitats, és possible que hàgem de replantejar-nos aquesta solució.\n",
    "\n",
    "Abans de canviar de plantejament, veiem el total de casos de persones que residien fora de Catalunya:"
   ]
  },
  {
   "cell_type": "code",
   "execution_count": 6,
   "id": "d4a71109",
   "metadata": {},
   "outputs": [
    {
     "data": {
      "text/plain": [
       "(3307, 34)"
      ]
     },
     "execution_count": 6,
     "metadata": {},
     "output_type": "execute_result"
    }
   ],
   "source": [
    "df[df[\"Comunitat autònoma residència\"] != \"Catalunya\"].shape"
   ]
  },
  {
   "cell_type": "markdown",
   "id": "a2ab5731",
   "metadata": {},
   "source": [
    "Tenim unes 3307 persones. Si comparem amb el total que són unes 70.000, podem veure que és un percentatge bastant menut, per tant, no tindrem en conter aquests casos i seguirem amb el nostre plantejament inicial.\n",
    "\n",
    "Ens quedem sols amb els casos de persones que residien a Catalunya:"
   ]
  },
  {
   "cell_type": "code",
   "execution_count": 7,
   "id": "3a403016",
   "metadata": {},
   "outputs": [
    {
     "name": "stdout",
     "output_type": "stream",
     "text": [
      "(66525, 34)\n"
     ]
    },
    {
     "data": {
      "text/plain": [
       "array(['Catalunya'], dtype=object)"
      ]
     },
     "execution_count": 7,
     "metadata": {},
     "output_type": "execute_result"
    }
   ],
   "source": [
    "df_catalunya = df[df[\"Comunitat autònoma residència\"] == \"Catalunya\"]\n",
    "\n",
    "# Comprovem\n",
    "print(df_catalunya.shape)\n",
    "df_catalunya[\"Comunitat autònoma residència\"].unique()"
   ]
  },
  {
   "cell_type": "markdown",
   "id": "ecc3cee5",
   "metadata": {},
   "source": [
    "Comprovem ara si hi ha valors buits en el camp *Comarca residència*:"
   ]
  },
  {
   "cell_type": "code",
   "execution_count": 8,
   "id": "877cab7c",
   "metadata": {},
   "outputs": [
    {
     "data": {
      "text/plain": [
       "0"
      ]
     },
     "execution_count": 8,
     "metadata": {},
     "output_type": "execute_result"
    }
   ],
   "source": [
    "df_catalunya[\"Comarca residència\"].isnull().sum()"
   ]
  },
  {
   "cell_type": "code",
   "execution_count": 9,
   "id": "d107a62b",
   "metadata": {},
   "outputs": [
    {
     "data": {
      "text/plain": [
       "0"
      ]
     },
     "execution_count": 9,
     "metadata": {},
     "output_type": "execute_result"
    }
   ],
   "source": [
    "df_catalunya[\"Comarca residència\"].isna().sum()"
   ]
  },
  {
   "cell_type": "markdown",
   "id": "99247f03",
   "metadata": {},
   "source": [
    "No hi ha cap valor *null* ni *na*.\n",
    "\n",
    "Comprovem també si hi ha algun valor especial per a indicar aquest aspecte:"
   ]
  },
  {
   "cell_type": "code",
   "execution_count": 10,
   "id": "485d9042",
   "metadata": {},
   "outputs": [
    {
     "data": {
      "text/plain": [
       "array(['Barcelonès', 'Segrià', 'Baix Camp', 'Vallès Occidental', 'Bages',\n",
       "       'Maresme', 'Anoia', 'Berguedà', 'Montsià', \"Val d'Aran\", 'Osona',\n",
       "       'Priorat', 'Tarragonès', 'Noguera', 'Baix Llobregat',\n",
       "       'Vallès Oriental', 'Pallars Sobirà', 'Garrigues', 'Ripollès',\n",
       "       'Baix Ebre', 'Gironès', \"Ribera d'Ebre\", 'Baix Empordà',\n",
       "       'Conca de Barberà', 'Pallars Jussà', 'Urgell', 'Garraf',\n",
       "       'Cerdanya', 'Garrotxa', 'Selva', \"Pla de l'Estany\", 'Segarra',\n",
       "       \"Pla d'Urgell\", 'Alt Penedès', 'Terra Alta', 'Alt Camp',\n",
       "       'Alt Empordà', 'Alta Ribagorça', 'Baix Penedès', 'Alt Urgell',\n",
       "       'Solsonès', 'Moianès', 'Baix Penedès / Maresme',\n",
       "       'Barcelonès / Vallès Oriental', 'Barcelonès / np',\n",
       "       'Barcelonès / Maresme', 'Anoia / Alt Penedès / Baix Llobregat',\n",
       "       'Barcelonès / Osona', '--', 'Barcelonès / Tarragonès',\n",
       "       'Baix Llobregat / Barcelonès', 'Osona / Ripollès',\n",
       "       'Baix Ebre / Barcelonès', 'Barcelonès / Vallès Occidental'],\n",
       "      dtype=object)"
      ]
     },
     "execution_count": 10,
     "metadata": {},
     "output_type": "execute_result"
    }
   ],
   "source": [
    "df_catalunya[\"Comarca residència\"].unique()"
   ]
  },
  {
   "cell_type": "markdown",
   "id": "3200b51b",
   "metadata": {},
   "source": [
    "Veiem que hi ha alguns valors on hi ha indicada més d'una comarca, comprovem si són molts:"
   ]
  },
  {
   "cell_type": "code",
   "execution_count": 11,
   "id": "9fa986b0",
   "metadata": {},
   "outputs": [
    {
     "data": {
      "text/plain": [
       "(19, 34)"
      ]
     },
     "execution_count": 11,
     "metadata": {},
     "output_type": "execute_result"
    }
   ],
   "source": [
    "df_catalunya[df_catalunya[\"Comarca residència\"].str.contains(\"/\")].shape"
   ]
  },
  {
   "cell_type": "markdown",
   "id": "b415c89b",
   "metadata": {},
   "source": [
    "Sols són 19, així que els eliminem:"
   ]
  },
  {
   "cell_type": "code",
   "execution_count": 12,
   "id": "75a876a2",
   "metadata": {},
   "outputs": [],
   "source": [
    "df_catalunya = df_catalunya[(df_catalunya[\"Comarca residència\"].str.contains(\"/\")) == False]"
   ]
  },
  {
   "cell_type": "markdown",
   "id": "c5e46e4b",
   "metadata": {},
   "source": [
    "Podem veure també el valor '--'. Aquest valor indicara que no res coneix la comarca de residència.\n",
    "\n",
    "Comprovem si hi ha molts casos:"
   ]
  },
  {
   "cell_type": "code",
   "execution_count": 13,
   "id": "db6be2d4",
   "metadata": {},
   "outputs": [
    {
     "data": {
      "text/plain": [
       "(5, 34)"
      ]
     },
     "execution_count": 13,
     "metadata": {},
     "output_type": "execute_result"
    }
   ],
   "source": [
    "df_catalunya[df_catalunya[\"Comarca residència\"] == \"--\"].shape"
   ]
  },
  {
   "cell_type": "markdown",
   "id": "48516c08",
   "metadata": {},
   "source": [
    "Sols hi ha 5 casos, passem a eliminar-los:"
   ]
  },
  {
   "cell_type": "code",
   "execution_count": 14,
   "id": "53c9fb2f",
   "metadata": {},
   "outputs": [
    {
     "data": {
      "text/plain": [
       "(0, 34)"
      ]
     },
     "execution_count": 14,
     "metadata": {},
     "output_type": "execute_result"
    }
   ],
   "source": [
    "df_catalunya = df_catalunya[df_catalunya[\"Comarca residència\"] != \"--\"]\n",
    "\n",
    "# Comprovem\n",
    "df_catalunya[df_catalunya[\"Comarca residència\"] == \"--\"].shape"
   ]
  },
  {
   "cell_type": "markdown",
   "id": "f7d5ef54",
   "metadata": {},
   "source": [
    "En aquest punt ja tenim tractat el camp *Comarca residència*.\n",
    "\n",
    "Mirem ara els anys de quan es van executar les distintes sentències:"
   ]
  },
  {
   "cell_type": "code",
   "execution_count": 15,
   "id": "b4976b26",
   "metadata": {},
   "outputs": [
    {
     "data": {
      "text/plain": [
       "array([1943., 1939., 1942., 1940.,   nan, 1941., 1959., 1969., 1948.,\n",
       "       1938., 1946., 1951., 1944., 1945., 1949., 1950., 1952., 1961.,\n",
       "       1963., 1958., 1955., 1957., 1972., 1954., 1970., 1947., 1953.,\n",
       "       1968., 1960., 1975., 1978., 1956., 1979., 1962., 1977., 1967.,\n",
       "       1971., 1965., 1973., 1964., 1976., 1966., 1974., 1980.])"
      ]
     },
     "execution_count": 15,
     "metadata": {},
     "output_type": "execute_result"
    }
   ],
   "source": [
    "df_catalunya[\"Any aprovació sen o altra resol\"].unique()"
   ]
  },
  {
   "cell_type": "markdown",
   "id": "1424ac3d",
   "metadata": {},
   "source": [
    "Contem el total de valors *na* en aquest camp:"
   ]
  },
  {
   "cell_type": "code",
   "execution_count": 16,
   "id": "fe1e1677",
   "metadata": {},
   "outputs": [
    {
     "data": {
      "text/plain": [
       "3773"
      ]
     },
     "execution_count": 16,
     "metadata": {},
     "output_type": "execute_result"
    }
   ],
   "source": [
    "df_catalunya[\"Any aprovació sen o altra resol\"].isna().sum()"
   ]
  },
  {
   "cell_type": "markdown",
   "id": "fb0264db",
   "metadata": {},
   "source": [
    "Tenim un total de 3773 camps sense any d'execució.\n",
    "\n",
    "Eliminem aquests registres:"
   ]
  },
  {
   "cell_type": "code",
   "execution_count": 17,
   "id": "d0e5fe8c",
   "metadata": {},
   "outputs": [
    {
     "data": {
      "text/plain": [
       "0"
      ]
     },
     "execution_count": 17,
     "metadata": {},
     "output_type": "execute_result"
    }
   ],
   "source": [
    "df_catalunya.dropna(subset = [\"Any aprovació sen o altra resol\"], inplace=True)\n",
    "\n",
    "#Comprovem\n",
    "df_catalunya[\"Any aprovació sen o altra resol\"].isna().sum()"
   ]
  },
  {
   "cell_type": "markdown",
   "id": "cd5aae74",
   "metadata": {},
   "source": [
    "En aquest punt ja tenim els camps de comarques i anys tractats.\n",
    "\n",
    "Hem eliminat al voltant de 6000 registres que no complien amb els nostres requisits. En comparació al volum total de dades no és molt, no representa ni el 10% del total.\n",
    "\n",
    "Ara creem el dataset per a la visualització. El que farem serà contar el total de casos per any i comarca."
   ]
  },
  {
   "cell_type": "code",
   "execution_count": 18,
   "id": "cc95fb45",
   "metadata": {},
   "outputs": [
    {
     "data": {
      "text/html": [
       "<div>\n",
       "<style scoped>\n",
       "    .dataframe tbody tr th:only-of-type {\n",
       "        vertical-align: middle;\n",
       "    }\n",
       "\n",
       "    .dataframe tbody tr th {\n",
       "        vertical-align: top;\n",
       "    }\n",
       "\n",
       "    .dataframe thead th {\n",
       "        text-align: right;\n",
       "    }\n",
       "</style>\n",
       "<table border=\"1\" class=\"dataframe\">\n",
       "  <thead>\n",
       "    <tr style=\"text-align: right;\">\n",
       "      <th></th>\n",
       "      <th>comarca</th>\n",
       "    </tr>\n",
       "  </thead>\n",
       "  <tbody>\n",
       "    <tr>\n",
       "      <th>0</th>\n",
       "      <td>Alt Camp</td>\n",
       "    </tr>\n",
       "    <tr>\n",
       "      <th>1</th>\n",
       "      <td>Alt Empordà</td>\n",
       "    </tr>\n",
       "    <tr>\n",
       "      <th>2</th>\n",
       "      <td>Alt Penedès</td>\n",
       "    </tr>\n",
       "    <tr>\n",
       "      <th>3</th>\n",
       "      <td>Alt Urgell</td>\n",
       "    </tr>\n",
       "    <tr>\n",
       "      <th>4</th>\n",
       "      <td>Alta Ribagorça</td>\n",
       "    </tr>\n",
       "  </tbody>\n",
       "</table>\n",
       "</div>"
      ],
      "text/plain": [
       "          comarca\n",
       "0        Alt Camp\n",
       "1     Alt Empordà\n",
       "2     Alt Penedès\n",
       "3      Alt Urgell\n",
       "4  Alta Ribagorça"
      ]
     },
     "execution_count": 18,
     "metadata": {},
     "output_type": "execute_result"
    }
   ],
   "source": [
    "# Creem un dataset buit\n",
    "df_mapa = pd.DataFrame()\n",
    "\n",
    "# Creem les variables comarques i anys_sentencia que utilitzarem després\n",
    "comarques = df_catalunya[\"Comarca residència\"].sort_values().unique()\n",
    "anys_sentencia = df_catalunya[\"Any aprovació sen o altra resol\"].sort_values().unique()\n",
    "\n",
    "# Afegim la columna comarca\n",
    "# Són les comarques úniques ordenades alfabèticament\n",
    "df_mapa[\"comarca\"] = df_catalunya[\"Comarca residència\"].sort_values().unique()\n",
    "\n",
    "# Comprovem\n",
    "df_mapa.head()"
   ]
  },
  {
   "cell_type": "markdown",
   "id": "322e23e7",
   "metadata": {},
   "source": [
    "Ara recorrerem cada any i calcularem el total de casos per any i comarca:"
   ]
  },
  {
   "cell_type": "code",
   "execution_count": 19,
   "id": "c28c52c8",
   "metadata": {},
   "outputs": [
    {
     "data": {
      "text/html": [
       "<div>\n",
       "<style scoped>\n",
       "    .dataframe tbody tr th:only-of-type {\n",
       "        vertical-align: middle;\n",
       "    }\n",
       "\n",
       "    .dataframe tbody tr th {\n",
       "        vertical-align: top;\n",
       "    }\n",
       "\n",
       "    .dataframe thead th {\n",
       "        text-align: right;\n",
       "    }\n",
       "</style>\n",
       "<table border=\"1\" class=\"dataframe\">\n",
       "  <thead>\n",
       "    <tr style=\"text-align: right;\">\n",
       "      <th></th>\n",
       "      <th>comarca</th>\n",
       "      <th>1938</th>\n",
       "      <th>1939</th>\n",
       "      <th>1940</th>\n",
       "      <th>1941</th>\n",
       "      <th>1942</th>\n",
       "      <th>1943</th>\n",
       "      <th>1944</th>\n",
       "      <th>1945</th>\n",
       "      <th>1946</th>\n",
       "      <th>...</th>\n",
       "      <th>1971</th>\n",
       "      <th>1972</th>\n",
       "      <th>1973</th>\n",
       "      <th>1974</th>\n",
       "      <th>1975</th>\n",
       "      <th>1976</th>\n",
       "      <th>1977</th>\n",
       "      <th>1978</th>\n",
       "      <th>1979</th>\n",
       "      <th>1980</th>\n",
       "    </tr>\n",
       "  </thead>\n",
       "  <tbody>\n",
       "    <tr>\n",
       "      <th>0</th>\n",
       "      <td>Alt Camp</td>\n",
       "      <td>0</td>\n",
       "      <td>450</td>\n",
       "      <td>85</td>\n",
       "      <td>31</td>\n",
       "      <td>26</td>\n",
       "      <td>50</td>\n",
       "      <td>5</td>\n",
       "      <td>2</td>\n",
       "      <td>0</td>\n",
       "      <td>...</td>\n",
       "      <td>0</td>\n",
       "      <td>0</td>\n",
       "      <td>0</td>\n",
       "      <td>0</td>\n",
       "      <td>0</td>\n",
       "      <td>0</td>\n",
       "      <td>0</td>\n",
       "      <td>0</td>\n",
       "      <td>0</td>\n",
       "      <td>0</td>\n",
       "    </tr>\n",
       "    <tr>\n",
       "      <th>1</th>\n",
       "      <td>Alt Empordà</td>\n",
       "      <td>1</td>\n",
       "      <td>715</td>\n",
       "      <td>246</td>\n",
       "      <td>51</td>\n",
       "      <td>113</td>\n",
       "      <td>105</td>\n",
       "      <td>14</td>\n",
       "      <td>28</td>\n",
       "      <td>35</td>\n",
       "      <td>...</td>\n",
       "      <td>0</td>\n",
       "      <td>0</td>\n",
       "      <td>0</td>\n",
       "      <td>0</td>\n",
       "      <td>0</td>\n",
       "      <td>0</td>\n",
       "      <td>0</td>\n",
       "      <td>0</td>\n",
       "      <td>0</td>\n",
       "      <td>0</td>\n",
       "    </tr>\n",
       "    <tr>\n",
       "      <th>2</th>\n",
       "      <td>Alt Penedès</td>\n",
       "      <td>1</td>\n",
       "      <td>541</td>\n",
       "      <td>168</td>\n",
       "      <td>61</td>\n",
       "      <td>149</td>\n",
       "      <td>163</td>\n",
       "      <td>7</td>\n",
       "      <td>3</td>\n",
       "      <td>2</td>\n",
       "      <td>...</td>\n",
       "      <td>0</td>\n",
       "      <td>0</td>\n",
       "      <td>0</td>\n",
       "      <td>0</td>\n",
       "      <td>0</td>\n",
       "      <td>0</td>\n",
       "      <td>0</td>\n",
       "      <td>0</td>\n",
       "      <td>0</td>\n",
       "      <td>0</td>\n",
       "    </tr>\n",
       "    <tr>\n",
       "      <th>3</th>\n",
       "      <td>Alt Urgell</td>\n",
       "      <td>22</td>\n",
       "      <td>155</td>\n",
       "      <td>113</td>\n",
       "      <td>32</td>\n",
       "      <td>42</td>\n",
       "      <td>29</td>\n",
       "      <td>3</td>\n",
       "      <td>15</td>\n",
       "      <td>2</td>\n",
       "      <td>...</td>\n",
       "      <td>0</td>\n",
       "      <td>0</td>\n",
       "      <td>0</td>\n",
       "      <td>0</td>\n",
       "      <td>0</td>\n",
       "      <td>2</td>\n",
       "      <td>0</td>\n",
       "      <td>0</td>\n",
       "      <td>2</td>\n",
       "      <td>0</td>\n",
       "    </tr>\n",
       "    <tr>\n",
       "      <th>4</th>\n",
       "      <td>Alta Ribagorça</td>\n",
       "      <td>78</td>\n",
       "      <td>9</td>\n",
       "      <td>11</td>\n",
       "      <td>3</td>\n",
       "      <td>5</td>\n",
       "      <td>5</td>\n",
       "      <td>0</td>\n",
       "      <td>3</td>\n",
       "      <td>0</td>\n",
       "      <td>...</td>\n",
       "      <td>0</td>\n",
       "      <td>0</td>\n",
       "      <td>0</td>\n",
       "      <td>0</td>\n",
       "      <td>0</td>\n",
       "      <td>0</td>\n",
       "      <td>0</td>\n",
       "      <td>0</td>\n",
       "      <td>0</td>\n",
       "      <td>0</td>\n",
       "    </tr>\n",
       "  </tbody>\n",
       "</table>\n",
       "<p>5 rows × 44 columns</p>\n",
       "</div>"
      ],
      "text/plain": [
       "          comarca 1938 1939 1940 1941 1942 1943 1944 1945 1946  ... 1971 1972  \\\n",
       "0        Alt Camp    0  450   85   31   26   50    5    2    0  ...    0    0   \n",
       "1     Alt Empordà    1  715  246   51  113  105   14   28   35  ...    0    0   \n",
       "2     Alt Penedès    1  541  168   61  149  163    7    3    2  ...    0    0   \n",
       "3      Alt Urgell   22  155  113   32   42   29    3   15    2  ...    0    0   \n",
       "4  Alta Ribagorça   78    9   11    3    5    5    0    3    0  ...    0    0   \n",
       "\n",
       "  1973 1974 1975 1976 1977 1978 1979 1980  \n",
       "0    0    0    0    0    0    0    0    0  \n",
       "1    0    0    0    0    0    0    0    0  \n",
       "2    0    0    0    0    0    0    0    0  \n",
       "3    0    0    0    2    0    0    2    0  \n",
       "4    0    0    0    0    0    0    0    0  \n",
       "\n",
       "[5 rows x 44 columns]"
      ]
     },
     "execution_count": 19,
     "metadata": {},
     "output_type": "execute_result"
    }
   ],
   "source": [
    "for a in anys_sentencia:\n",
    "    df_mapa[int(a)] = \"\"\n",
    "    for c in comarques:\n",
    "        df_mapa[a][df_mapa[\"comarca\"] == c] = df_catalunya[(df_catalunya[\"Any aprovació sen o altra resol\"] == a) & (df_catalunya[\"Comarca residència\"] == c)].shape[0]\n",
    "\n",
    "# Comprovem        \n",
    "df_mapa.head()"
   ]
  },
  {
   "cell_type": "markdown",
   "id": "d2d172e1",
   "metadata": {},
   "source": [
    "Exportem el dataset en un csv:"
   ]
  },
  {
   "cell_type": "code",
   "execution_count": 20,
   "id": "95018a68",
   "metadata": {},
   "outputs": [],
   "source": [
    "df_mapa.to_csv('data/dades_mapa.csv', index=False)"
   ]
  },
  {
   "cell_type": "markdown",
   "id": "2ccb361e",
   "metadata": {},
   "source": [
    "### Pregunta 2: Hi ha diferències significatives entre les característiques de les víctimes depenent del sexe?"
   ]
  },
  {
   "cell_type": "markdown",
   "id": "bcf0a705",
   "metadata": {},
   "source": [
    "Veient els atributs que tenim de les víctimes, agafarem la comunitat de residència i l'edat per veure si hi ha alguna diferència significativa en la repressió que van sofrir les persones que vivien en una mateixa província o tingueren una mateixa edat. Farem una distinció per sexe i així tindrem present una perspectiva de gènere. D'aquesta manera comprovarem si en algunes províncies o rangs d'edat la repressió ha estat més present en homes o dones.\n",
    "\n",
    "Volem fer una comparació relativa, per tant, utilitzarem un gràfic de barres apilades al 100%. En concret farem servir dos gràfics d'aquests, un agrupant les víctimes per edat i altre per província.\n",
    "\n",
    "Elegim la província, ja que si fem la comparació per comarques o municipis hi haurà massa columnes i açò és una limitació d'aquest tipus de gràfics. Seria molt difícil obtenir informació útil amb eixa visualització.\n",
    "\n",
    "Pel que fa als anys, els dividirem en rangs pel mateix motiu.\n",
    "\n",
    "Comencem preparant les dades per a la visualització del gràfic per províncies de residència. Partirem del dataset de Catalunya que ja tenim preparat.\n",
    "\n",
    "Comprovem que tenim les províncies correctes:"
   ]
  },
  {
   "cell_type": "code",
   "execution_count": 21,
   "id": "7792d70d",
   "metadata": {},
   "outputs": [
    {
     "data": {
      "text/plain": [
       "array(['Barcelona', 'Lleida', 'Tarragona', 'Girona'], dtype=object)"
      ]
     },
     "execution_count": 21,
     "metadata": {},
     "output_type": "execute_result"
    }
   ],
   "source": [
    "df_catalunya[\"Província residència\"].unique()"
   ]
  },
  {
   "cell_type": "markdown",
   "id": "b2678abb",
   "metadata": {},
   "source": [
    "Tractem també el camp *Edat* per veure quins valors té:"
   ]
  },
  {
   "cell_type": "code",
   "execution_count": 22,
   "id": "5c351a89",
   "metadata": {},
   "outputs": [
    {
     "data": {
      "text/plain": [
       "array([  12.,   13.,   14.,   15.,   16.,   17.,   18.,   19.,   20.,\n",
       "         21.,   22.,   23.,   24.,   25.,   26.,   27.,   28.,   29.,\n",
       "         30.,   31.,   32.,   33.,   34.,   35.,   36.,   37.,   38.,\n",
       "         39.,   40.,   41.,   42.,   43.,   44.,   45.,   46.,   47.,\n",
       "         48.,   49.,   50.,   51.,   52.,   53.,   54.,   55.,   56.,\n",
       "         57.,   58.,   59.,   60.,   61.,   62.,   63.,   64.,   65.,\n",
       "         66.,   67.,   68.,   69.,   70.,   71.,   72.,   73.,   74.,\n",
       "         75.,   76.,   77.,   78.,   79.,   80.,   81.,   82.,   84.,\n",
       "         85.,   89., 9999.,   nan])"
      ]
     },
     "execution_count": 22,
     "metadata": {},
     "output_type": "execute_result"
    }
   ],
   "source": [
    "df_catalunya[\"Edat\"].sort_values().unique()"
   ]
  },
  {
   "cell_type": "markdown",
   "id": "6fed3f01",
   "metadata": {},
   "source": [
    "Tenim edats entre 12 i 89 anys.\n",
    "\n",
    "I també veiem que tenim valors *na* i algun valor 9999 que significarà que no tenim eixe valor.\n",
    "\n",
    "Comprovem el total de casos amb aquests valors:"
   ]
  },
  {
   "cell_type": "code",
   "execution_count": 23,
   "id": "5b36b443",
   "metadata": {},
   "outputs": [
    {
     "data": {
      "text/plain": [
       "2"
      ]
     },
     "execution_count": 23,
     "metadata": {},
     "output_type": "execute_result"
    }
   ],
   "source": [
    "df_catalunya[\"Edat\"].isna().sum()"
   ]
  },
  {
   "cell_type": "code",
   "execution_count": 24,
   "id": "d5422c05",
   "metadata": {},
   "outputs": [
    {
     "data": {
      "text/plain": [
       "(1876, 34)"
      ]
     },
     "execution_count": 24,
     "metadata": {},
     "output_type": "execute_result"
    }
   ],
   "source": [
    "df_catalunya[df_catalunya[\"Edat\"] == 9999].shape"
   ]
  },
  {
   "cell_type": "markdown",
   "id": "b63d2c27",
   "metadata": {},
   "source": [
    "Són un total de 1878 casos. Podem eliminar-los i continuarem tenim més de 60.000 casos en el dataset."
   ]
  },
  {
   "cell_type": "code",
   "execution_count": 25,
   "id": "900dcb74",
   "metadata": {},
   "outputs": [
    {
     "name": "stdout",
     "output_type": "stream",
     "text": [
      "0\n"
     ]
    },
    {
     "data": {
      "text/plain": [
       "(0, 34)"
      ]
     },
     "execution_count": 25,
     "metadata": {},
     "output_type": "execute_result"
    }
   ],
   "source": [
    "df_catalunya.dropna(subset = [\"Edat\"], inplace=True)\n",
    "df_catalunya = df_catalunya[df_catalunya[\"Edat\"] != 9999]\n",
    "\n",
    "# Comprovem\n",
    "print(df_catalunya[\"Edat\"].isna().sum())\n",
    "df_catalunya[df_catalunya[\"Edat\"] == 9999].shape"
   ]
  },
  {
   "cell_type": "markdown",
   "id": "793a184b",
   "metadata": {},
   "source": [
    "Creem ara un nou dataset i l'omplim amb les dades ja preparades:"
   ]
  },
  {
   "cell_type": "code",
   "execution_count": 26,
   "id": "07ae2990",
   "metadata": {},
   "outputs": [
    {
     "data": {
      "text/html": [
       "<div>\n",
       "<style scoped>\n",
       "    .dataframe tbody tr th:only-of-type {\n",
       "        vertical-align: middle;\n",
       "    }\n",
       "\n",
       "    .dataframe tbody tr th {\n",
       "        vertical-align: top;\n",
       "    }\n",
       "\n",
       "    .dataframe thead th {\n",
       "        text-align: right;\n",
       "    }\n",
       "</style>\n",
       "<table border=\"1\" class=\"dataframe\">\n",
       "  <thead>\n",
       "    <tr style=\"text-align: right;\">\n",
       "      <th></th>\n",
       "      <th>provincia</th>\n",
       "      <th>homes</th>\n",
       "      <th>dones</th>\n",
       "    </tr>\n",
       "  </thead>\n",
       "  <tbody>\n",
       "    <tr>\n",
       "      <th>0</th>\n",
       "      <td>Barcelona</td>\n",
       "      <td>33330</td>\n",
       "      <td>3544</td>\n",
       "    </tr>\n",
       "    <tr>\n",
       "      <th>1</th>\n",
       "      <td>Lleida</td>\n",
       "      <td>8359</td>\n",
       "      <td>538</td>\n",
       "    </tr>\n",
       "    <tr>\n",
       "      <th>2</th>\n",
       "      <td>Tarragona</td>\n",
       "      <td>8387</td>\n",
       "      <td>608</td>\n",
       "    </tr>\n",
       "    <tr>\n",
       "      <th>3</th>\n",
       "      <td>Girona</td>\n",
       "      <td>5855</td>\n",
       "      <td>229</td>\n",
       "    </tr>\n",
       "  </tbody>\n",
       "</table>\n",
       "</div>"
      ],
      "text/plain": [
       "   provincia  homes dones\n",
       "0  Barcelona  33330  3544\n",
       "1     Lleida   8359   538\n",
       "2  Tarragona   8387   608\n",
       "3     Girona   5855   229"
      ]
     },
     "execution_count": 26,
     "metadata": {},
     "output_type": "execute_result"
    }
   ],
   "source": [
    "# Creem un dataset buit\n",
    "df_column_provincies = pd.DataFrame()\n",
    "\n",
    "# Afegim les províncies\n",
    "provincies = df_catalunya[\"Província residència\"].unique()\n",
    "df_column_provincies[\"provincia\"] = provincies\n",
    "\n",
    "# Afegim les columnes homes i dones\n",
    "df_column_provincies[\"homes\"] = \"\"\n",
    "df_column_provincies[\"dones\"] = \"\"\n",
    "\n",
    "# Ara afegim el total d'homes i dones represaliades en cada província\n",
    "for p in provincies:\n",
    "    df_column_provincies[\"homes\"][df_column_provincies[\"provincia\"] == p] = df_catalunya[(df_catalunya[\"Província residència\"] == p) & (df_catalunya[\"Sexe\"] == \"Home\")].shape[0]\n",
    "    df_column_provincies[\"dones\"][df_column_provincies[\"provincia\"] == p] = df_catalunya[(df_catalunya[\"Província residència\"] == p) & (df_catalunya[\"Sexe\"] == \"Dona\")].shape[0]\n",
    "\n",
    "\n",
    "# Comprovem\n",
    "df_column_provincies.head()"
   ]
  },
  {
   "cell_type": "markdown",
   "id": "e0f10ac4",
   "metadata": {},
   "source": [
    "Guardem el resultat:"
   ]
  },
  {
   "cell_type": "code",
   "execution_count": 27,
   "id": "7bc50af9",
   "metadata": {},
   "outputs": [],
   "source": [
    "df_column_provincies.to_csv('data/dades_columnes_provincies.csv', index=False)"
   ]
  },
  {
   "cell_type": "markdown",
   "id": "bf2a1595",
   "metadata": {},
   "source": [
    "Ara fem una cosa similar però amb les edats. Les dividirem en rangs per no tenir una columna per cada edat i no saturar el gràfic, fent difícil la seua comprensió."
   ]
  },
  {
   "cell_type": "code",
   "execution_count": 28,
   "id": "4b96d506",
   "metadata": {},
   "outputs": [
    {
     "data": {
      "text/html": [
       "<div>\n",
       "<style scoped>\n",
       "    .dataframe tbody tr th:only-of-type {\n",
       "        vertical-align: middle;\n",
       "    }\n",
       "\n",
       "    .dataframe tbody tr th {\n",
       "        vertical-align: top;\n",
       "    }\n",
       "\n",
       "    .dataframe thead th {\n",
       "        text-align: right;\n",
       "    }\n",
       "</style>\n",
       "<table border=\"1\" class=\"dataframe\">\n",
       "  <thead>\n",
       "    <tr style=\"text-align: right;\">\n",
       "      <th></th>\n",
       "      <th>edats</th>\n",
       "      <th>homes</th>\n",
       "      <th>dones</th>\n",
       "    </tr>\n",
       "  </thead>\n",
       "  <tbody>\n",
       "    <tr>\n",
       "      <th>0</th>\n",
       "      <td>10-19 anys</td>\n",
       "      <td>1183</td>\n",
       "      <td>254</td>\n",
       "    </tr>\n",
       "    <tr>\n",
       "      <th>1</th>\n",
       "      <td>20-29 anys</td>\n",
       "      <td>13121</td>\n",
       "      <td>1451</td>\n",
       "    </tr>\n",
       "    <tr>\n",
       "      <th>2</th>\n",
       "      <td>30-39 anys</td>\n",
       "      <td>18476</td>\n",
       "      <td>1326</td>\n",
       "    </tr>\n",
       "    <tr>\n",
       "      <th>3</th>\n",
       "      <td>40-49 anys</td>\n",
       "      <td>13516</td>\n",
       "      <td>1062</td>\n",
       "    </tr>\n",
       "    <tr>\n",
       "      <th>4</th>\n",
       "      <td>50-59 anys</td>\n",
       "      <td>7201</td>\n",
       "      <td>547</td>\n",
       "    </tr>\n",
       "    <tr>\n",
       "      <th>5</th>\n",
       "      <td>60-69 anys</td>\n",
       "      <td>2137</td>\n",
       "      <td>234</td>\n",
       "    </tr>\n",
       "    <tr>\n",
       "      <th>6</th>\n",
       "      <td>70-79 anys</td>\n",
       "      <td>279</td>\n",
       "      <td>44</td>\n",
       "    </tr>\n",
       "    <tr>\n",
       "      <th>7</th>\n",
       "      <td>80-89 anys</td>\n",
       "      <td>18</td>\n",
       "      <td>1</td>\n",
       "    </tr>\n",
       "  </tbody>\n",
       "</table>\n",
       "</div>"
      ],
      "text/plain": [
       "        edats  homes dones\n",
       "0  10-19 anys   1183   254\n",
       "1  20-29 anys  13121  1451\n",
       "2  30-39 anys  18476  1326\n",
       "3  40-49 anys  13516  1062\n",
       "4  50-59 anys   7201   547\n",
       "5  60-69 anys   2137   234\n",
       "6  70-79 anys    279    44\n",
       "7  80-89 anys     18     1"
      ]
     },
     "execution_count": 28,
     "metadata": {},
     "output_type": "execute_result"
    }
   ],
   "source": [
    "# Creem un dataset buit\n",
    "df_column_edat = pd.DataFrame()\n",
    "\n",
    "# Omplim la columna anys\n",
    "edats = 10,19,20,29,30,39,40,49,50,59,60,69,70,79,80,89\n",
    "rang_edats = []\n",
    "i = 0\n",
    "while i < len(edats)-1:\n",
    "    rang_edats.append(str(edats[i])+\"-\"+str(edats[i+1])+\" anys\")\n",
    "    i +=2\n",
    "\n",
    "df_column_edat[\"edats\"] = rang_edats\n",
    "\n",
    "# Creem les columnes homes i dones\n",
    "df_column_edat[\"homes\"] = \"\"\n",
    "df_column_edat[\"dones\"] = \"\"\n",
    "\n",
    "# Dividim tots els casos que tenim per aquests rangs d'edat i gènere\n",
    "i = 0\n",
    "while i < len(edats)-1:\n",
    "    rang = str(edats[i])+\"-\"+str(edats[i+1])+\" anys\"\n",
    "    df_column_edat[\"homes\"][df_column_edat[\"edats\"] == rang] = df_catalunya[(df_catalunya[\"Edat\"].between(edats[i],edats[i+1])) & (df_catalunya[\"Sexe\"] == \"Home\")].shape[0]\n",
    "    df_column_edat[\"dones\"][df_column_edat[\"edats\"] == rang] = df_catalunya[(df_catalunya[\"Edat\"].between(edats[i],edats[i+1])) & (df_catalunya[\"Sexe\"] == \"Dona\")].shape[0]\n",
    "    i +=2\n",
    "    \n",
    "# Comprovem\n",
    "df_column_edat  "
   ]
  },
  {
   "cell_type": "markdown",
   "id": "982c6ade",
   "metadata": {},
   "source": [
    "Guardem el resultat:"
   ]
  },
  {
   "cell_type": "code",
   "execution_count": 29,
   "id": "32c7d87d",
   "metadata": {},
   "outputs": [],
   "source": [
    "df_column_edat.to_csv('data/dades_columnes_edats.csv', index=False)"
   ]
  },
  {
   "cell_type": "markdown",
   "id": "c4302c9c",
   "metadata": {},
   "source": [
    "### Pregunta 3: Com ha evolucionat el nombre d'afusellaments al llarg de la dictadura?"
   ]
  },
  {
   "cell_type": "markdown",
   "id": "009ff5f7",
   "metadata": {},
   "source": [
    "En aquesta pregunta el que volem saber és la tendència en el nombre d'afusellaments al llarg de la dictadura, per tant, hem decidit utilitzar un gràfic de línies. En la PAC 3 hem fet servir aquest gràfic i ens ha sigut realment útil per veure de forma ràpida i senzilla l'evolució dels salaris i dels preus de lloguer a Catalunya.\n",
    "\n",
    "Per tractar aquestes dades primer agafarem aquells casos on la persona ha sigut afusellada. Com en la pregunta anterior, partirem de les dades que ja tenim tractades en el dataset de Catalunya."
   ]
  },
  {
   "cell_type": "code",
   "execution_count": 30,
   "id": "f0cb95cb",
   "metadata": {},
   "outputs": [
    {
     "data": {
      "text/plain": [
       "(3233, 34)"
      ]
     },
     "execution_count": 30,
     "metadata": {},
     "output_type": "execute_result"
    }
   ],
   "source": [
    "df_afusellats = df_catalunya[df_catalunya[\"Afusellades\"] == \"executat/da\"]\n",
    "df_afusellats.shape"
   ]
  },
  {
   "cell_type": "markdown",
   "id": "cdccc7ed",
   "metadata": {},
   "source": [
    "Tenim un total de 3233 persones que van ser afusellades.\n",
    "\n",
    "El que farem ara és crear el dataset amb les dades d'aquestes persones. Ens quedarem sols amb les sentències fins a l'any 1975, que va ser quan va morir Franco.\n",
    "\n",
    "Calcularem el total de persones afusellades i també distingirem per sexe com hem fet en l'exercici anterior per comprovar si se segueix la mateixa tendència.\n",
    "\n",
    "Primer, comprovem els anys dels afusellaments:"
   ]
  },
  {
   "cell_type": "code",
   "execution_count": 31,
   "id": "dd01adce",
   "metadata": {},
   "outputs": [
    {
     "data": {
      "text/plain": [
       "array([1938., 1939., 1940., 1941., 1942., 1943., 1944., 1945., 1946.,\n",
       "       1947., 1948., 1949., 1950., 1952., 1954., 1956., 1974., 1975.])"
      ]
     },
     "execution_count": 31,
     "metadata": {},
     "output_type": "execute_result"
    }
   ],
   "source": [
    "df_afusellats[\"Any aprovació sen o altra resol\"].sort_values().unique()"
   ]
  },
  {
   "cell_type": "markdown",
   "id": "869b85a9",
   "metadata": {},
   "source": [
    "No serà necessari filtrar les dades per any, l'any màxim que tenim ja és el 1975.\n",
    "\n",
    "Creem ara el dataset amb les dades preparades:"
   ]
  },
  {
   "cell_type": "code",
   "execution_count": 32,
   "id": "becf2161",
   "metadata": {},
   "outputs": [
    {
     "data": {
      "text/html": [
       "<div>\n",
       "<style scoped>\n",
       "    .dataframe tbody tr th:only-of-type {\n",
       "        vertical-align: middle;\n",
       "    }\n",
       "\n",
       "    .dataframe tbody tr th {\n",
       "        vertical-align: top;\n",
       "    }\n",
       "\n",
       "    .dataframe thead th {\n",
       "        text-align: right;\n",
       "    }\n",
       "</style>\n",
       "<table border=\"1\" class=\"dataframe\">\n",
       "  <thead>\n",
       "    <tr style=\"text-align: right;\">\n",
       "      <th></th>\n",
       "      <th>anys</th>\n",
       "      <th>total</th>\n",
       "      <th>homes</th>\n",
       "      <th>dones</th>\n",
       "    </tr>\n",
       "  </thead>\n",
       "  <tbody>\n",
       "    <tr>\n",
       "      <th>0</th>\n",
       "      <td>1938</td>\n",
       "      <td>59</td>\n",
       "      <td>59</td>\n",
       "      <td>0</td>\n",
       "    </tr>\n",
       "    <tr>\n",
       "      <th>1</th>\n",
       "      <td>1939</td>\n",
       "      <td>2316</td>\n",
       "      <td>2302</td>\n",
       "      <td>14</td>\n",
       "    </tr>\n",
       "    <tr>\n",
       "      <th>2</th>\n",
       "      <td>1940</td>\n",
       "      <td>455</td>\n",
       "      <td>454</td>\n",
       "      <td>1</td>\n",
       "    </tr>\n",
       "    <tr>\n",
       "      <th>3</th>\n",
       "      <td>1941</td>\n",
       "      <td>77</td>\n",
       "      <td>77</td>\n",
       "      <td>0</td>\n",
       "    </tr>\n",
       "    <tr>\n",
       "      <th>4</th>\n",
       "      <td>1942</td>\n",
       "      <td>132</td>\n",
       "      <td>132</td>\n",
       "      <td>0</td>\n",
       "    </tr>\n",
       "    <tr>\n",
       "      <th>5</th>\n",
       "      <td>1943</td>\n",
       "      <td>138</td>\n",
       "      <td>137</td>\n",
       "      <td>1</td>\n",
       "    </tr>\n",
       "    <tr>\n",
       "      <th>6</th>\n",
       "      <td>1944</td>\n",
       "      <td>13</td>\n",
       "      <td>13</td>\n",
       "      <td>0</td>\n",
       "    </tr>\n",
       "    <tr>\n",
       "      <th>7</th>\n",
       "      <td>1945</td>\n",
       "      <td>1</td>\n",
       "      <td>1</td>\n",
       "      <td>0</td>\n",
       "    </tr>\n",
       "    <tr>\n",
       "      <th>8</th>\n",
       "      <td>1946</td>\n",
       "      <td>3</td>\n",
       "      <td>3</td>\n",
       "      <td>0</td>\n",
       "    </tr>\n",
       "    <tr>\n",
       "      <th>9</th>\n",
       "      <td>1947</td>\n",
       "      <td>8</td>\n",
       "      <td>8</td>\n",
       "      <td>0</td>\n",
       "    </tr>\n",
       "    <tr>\n",
       "      <th>10</th>\n",
       "      <td>1948</td>\n",
       "      <td>11</td>\n",
       "      <td>11</td>\n",
       "      <td>0</td>\n",
       "    </tr>\n",
       "    <tr>\n",
       "      <th>11</th>\n",
       "      <td>1949</td>\n",
       "      <td>5</td>\n",
       "      <td>5</td>\n",
       "      <td>0</td>\n",
       "    </tr>\n",
       "    <tr>\n",
       "      <th>12</th>\n",
       "      <td>1950</td>\n",
       "      <td>4</td>\n",
       "      <td>4</td>\n",
       "      <td>0</td>\n",
       "    </tr>\n",
       "    <tr>\n",
       "      <th>13</th>\n",
       "      <td>1952</td>\n",
       "      <td>7</td>\n",
       "      <td>7</td>\n",
       "      <td>0</td>\n",
       "    </tr>\n",
       "    <tr>\n",
       "      <th>14</th>\n",
       "      <td>1954</td>\n",
       "      <td>1</td>\n",
       "      <td>1</td>\n",
       "      <td>0</td>\n",
       "    </tr>\n",
       "    <tr>\n",
       "      <th>15</th>\n",
       "      <td>1956</td>\n",
       "      <td>1</td>\n",
       "      <td>1</td>\n",
       "      <td>0</td>\n",
       "    </tr>\n",
       "    <tr>\n",
       "      <th>16</th>\n",
       "      <td>1974</td>\n",
       "      <td>1</td>\n",
       "      <td>1</td>\n",
       "      <td>0</td>\n",
       "    </tr>\n",
       "    <tr>\n",
       "      <th>17</th>\n",
       "      <td>1975</td>\n",
       "      <td>1</td>\n",
       "      <td>1</td>\n",
       "      <td>0</td>\n",
       "    </tr>\n",
       "  </tbody>\n",
       "</table>\n",
       "</div>"
      ],
      "text/plain": [
       "    anys  total  homes  dones\n",
       "0   1938     59     59      0\n",
       "1   1939   2316   2302     14\n",
       "2   1940    455    454      1\n",
       "3   1941     77     77      0\n",
       "4   1942    132    132      0\n",
       "5   1943    138    137      1\n",
       "6   1944     13     13      0\n",
       "7   1945      1      1      0\n",
       "8   1946      3      3      0\n",
       "9   1947      8      8      0\n",
       "10  1948     11     11      0\n",
       "11  1949      5      5      0\n",
       "12  1950      4      4      0\n",
       "13  1952      7      7      0\n",
       "14  1954      1      1      0\n",
       "15  1956      1      1      0\n",
       "16  1974      1      1      0\n",
       "17  1975      1      1      0"
      ]
     },
     "execution_count": 32,
     "metadata": {},
     "output_type": "execute_result"
    }
   ],
   "source": [
    "# Creem el dataset buit\n",
    "df_column_afusellaments = pd.DataFrame()\n",
    "\n",
    "# Agafem els anys de què disposem de dades\n",
    "anys_sentencia = df_afusellats[\"Any aprovació sen o altra resol\"].sort_values().unique()\n",
    "\n",
    "# Omplim la columna anys\n",
    "df_column_afusellaments[\"anys\"] = list(map(int, anys_sentencia))\n",
    "\n",
    "# Inicialitzem les columnes per a les dades\n",
    "df_column_afusellaments[\"total\"] = 0\n",
    "df_column_afusellaments[\"homes\"] = 0\n",
    "df_column_afusellaments[\"dones\"] = 0\n",
    "\n",
    "# Omplim aquestes noves columnes creades\n",
    "for a in anys_sentencia:\n",
    "    df_column_afusellaments[\"total\"][df_column_afusellaments[\"anys\"] == a] = df_afusellats[df_afusellats[\"Any aprovació sen o altra resol\"] == a].shape[0]\n",
    "    df_column_afusellaments[\"homes\"][df_column_afusellaments[\"anys\"] == a] = df_afusellats[(df_afusellats[\"Any aprovació sen o altra resol\"] == a) & (df_afusellats[\"Sexe\"] == \"Home\")].shape[0]\n",
    "    df_column_afusellaments[\"dones\"][df_column_afusellaments[\"anys\"] == a] = df_afusellats[(df_afusellats[\"Any aprovació sen o altra resol\"] == a) & (df_afusellats[\"Sexe\"] == \"Dona\")].shape[0]\n",
    "\n",
    "\n",
    "df_column_afusellaments"
   ]
  },
  {
   "cell_type": "markdown",
   "id": "732b44a0",
   "metadata": {},
   "source": [
    "Guardem les dades:"
   ]
  },
  {
   "cell_type": "code",
   "execution_count": 33,
   "id": "8871799a",
   "metadata": {},
   "outputs": [],
   "source": [
    "df_column_afusellaments.to_csv('data/dades_linia_afusellaments.csv', index=False)"
   ]
  }
 ],
 "metadata": {
  "kernelspec": {
   "display_name": "Python 3 (ipykernel)",
   "language": "python",
   "name": "python3"
  },
  "language_info": {
   "codemirror_mode": {
    "name": "ipython",
    "version": 3
   },
   "file_extension": ".py",
   "mimetype": "text/x-python",
   "name": "python",
   "nbconvert_exporter": "python",
   "pygments_lexer": "ipython3",
   "version": "3.9.7"
  }
 },
 "nbformat": 4,
 "nbformat_minor": 5
}
